{
  "nbformat": 4,
  "nbformat_minor": 0,
  "metadata": {
    "colab": {
      "provenance": []
    },
    "kernelspec": {
      "name": "python3",
      "display_name": "Python 3"
    },
    "language_info": {
      "name": "python"
    }
  },
  "cells": [
    {
      "cell_type": "markdown",
      "source": [
        "#Revisão PLN"
      ],
      "metadata": {
        "id": "v0q3NziOSenf"
      }
    },
    {
      "cell_type": "markdown",
      "source": [
        "Conteúdo:\n",
        "\n",
        "*   **Tratamento de Texto:** Código feito em aula, mostrando limpeza do texto, tokenização e criação de bag of words\n",
        "*   **Técnicas de Processamento de Texto:** Algoritmos independentes mostrando as etapas do processamento de texto, incluindo:\n",
        "        1.   Pré-processamento\n",
        "        2.   Remoção de Stopwords\n",
        "        3.   Tokenização\n",
        "        4.   One-Hot Encoding\n",
        "        5.   Vectorizer\n",
        "        6.   Stemming\n",
        "        7.   Lemmatization\n",
        "*   **Algoritmos de Treinamento:** Modelos de algoritmos de treinamento\n",
        "        1.   Rede Neural [Keras]\n",
        "        2.   LSTM\n",
        "*   **Exercícios:** Exercícios 1 a 4 (tarefas relacionadas com processamento de texto). Cada exercício está dividido numa seção\n",
        "\n",
        "\n",
        "\n"
      ],
      "metadata": {
        "id": "iRzdfGz2SiBo"
      }
    },
    {
      "cell_type": "markdown",
      "source": [
        "__________________________________________________\n",
        "\n",
        "\n",
        "\n"
      ],
      "metadata": {
        "id": "fgHOz88wULXp"
      }
    },
    {
      "cell_type": "markdown",
      "source": [
        "##Tratamento de Texto"
      ],
      "metadata": {
        "id": "6RZcuWWYR3uz"
      }
    },
    {
      "cell_type": "code",
      "source": [
        "corpus = \"\"\"rato roeu a roupa do rei de Roma,\n",
        "O rato roeu a roupa do rei da Rússia,\n",
        "O rato roeu a roupa do RodovaIho...\n",
        "O rato a roer roía\n",
        "E a rosa Rita Ramalho do rato a roer se ria.\n",
        "O rato roeu a roupa do rei de roma\n",
        "a rainha com raiva roeu o resto.\"\"\"\n",
        "\n",
        "# Pré-processamento\n",
        "corpus_lower = corpus.lower()\n",
        "trans_table = str.maketrans('.,\\n', '   ')\n",
        "corpus_limpo = corpus_lower.translate(trans_table)\n",
        "\n",
        "# Criando as tokens a partir do Texto\n",
        "tokens = corpus_limpo.split(\" \")\n",
        "\n",
        "# Removendo os stop words\n",
        "stop_words = ['a', 'o', 'da', 'do', 'e', 'que', 'com', 'se', 'de']\n",
        "\n",
        "tokens_limpos = []\n",
        "for token in tokens:\n",
        "    if token != '' and token not in stop_words:\n",
        "        tokens_limpos.append( token )\n",
        "print(\"Tokens: \", tokens_limpos, \"\\n\")\n",
        "\n",
        "# Criando o Bag Of Words com contagem de palavras\n",
        "vocabulario = list(set(tokens_limpos))\n",
        "print(\"Vocabulario: \", vocabulario, \"\\n\")\n",
        "\n",
        "bag_of_words = {}\n",
        "for token in tokens_limpos:\n",
        "    if token in bag_of_words:\n",
        "        bag_of_words[token] = bag_of_words[token] + 1\n",
        "    else:\n",
        "        bag_of_words[token] = 1\n",
        "print(\"Bag of Words (com contagem): \", bag_of_words)"
      ],
      "metadata": {
        "colab": {
          "base_uri": "https://localhost:8080/"
        },
        "id": "YE6B4GR4R7zq",
        "outputId": "d34cbf19-d6f4-4d66-b2cb-46ec2518821a"
      },
      "execution_count": 45,
      "outputs": [
        {
          "output_type": "stream",
          "name": "stdout",
          "text": [
            "Tokens:  ['rato', 'roeu', 'roupa', 'rei', 'roma', 'rato', 'roeu', 'roupa', 'rei', 'rússia', 'rato', 'roeu', 'roupa', 'rodovaiho', 'rato', 'roer', 'roía', 'rosa', 'rita', 'ramalho', 'rato', 'roer', 'ria', 'rato', 'roeu', 'roupa', 'rei', 'roma', 'rainha', 'raiva', 'roeu', 'resto'] \n",
            "\n",
            "Vocabulario:  ['rato', 'rússia', 'resto', 'rei', 'roía', 'roupa', 'rainha', 'rosa', 'raiva', 'rodovaiho', 'ramalho', 'roeu', 'roer', 'ria', 'rita', 'roma'] \n",
            "\n",
            "Bag of Words (com contagem):  {'rato': 6, 'roeu': 5, 'roupa': 4, 'rei': 3, 'roma': 2, 'rússia': 1, 'rodovaiho': 1, 'roer': 2, 'roía': 1, 'rosa': 1, 'rita': 1, 'ramalho': 1, 'ria': 1, 'rainha': 1, 'raiva': 1, 'resto': 1}\n"
          ]
        }
      ]
    },
    {
      "cell_type": "markdown",
      "source": [
        "##Técnicas de Processamento de Texto"
      ],
      "metadata": {
        "id": "roStQVCk10Pc"
      }
    },
    {
      "cell_type": "markdown",
      "source": [
        "###Pré-processamento de Texto\n"
      ],
      "metadata": {
        "id": "Ee8RM7JH14tS"
      }
    },
    {
      "cell_type": "markdown",
      "source": [
        "Realiza o pré-processamento de texto, incluindo:\n",
        "    <br> - Conversão para minúsculas\n",
        "    <br> - Remoção de acentuação\n",
        "    <br> - Remoção de pontuação\n",
        "    <br> - Normalização de espaços"
      ],
      "metadata": {
        "id": "Jr7NQeCL5LmV"
      }
    },
    {
      "cell_type": "code",
      "source": [
        "import re\n",
        "from unidecode import unidecode\n",
        "\n",
        "def preprocess_text(text):\n",
        "    # Converte para minúsculas\n",
        "    text = text.lower()\n",
        "\n",
        "    # Remove acentuação\n",
        "    text = unidecode(text)\n",
        "\n",
        "    # Remove pontuação\n",
        "    text = re.sub(r'[^\\w\\s]', '', text)\n",
        "\n",
        "    # Remove espaços extras\n",
        "    text = re.sub(r'\\s+', ' ', text).strip()\n",
        "\n",
        "    return text\n",
        "\n",
        "# Exemplo de uso\n",
        "texto_exemplo = \"Olá, Mundo! Eu tenho 42 maçãs. 😊\"\n",
        "print(preprocess_text(texto_exemplo))"
      ],
      "metadata": {
        "id": "QwVBfyq0IeHF",
        "outputId": "fa1435d0-c375-456b-d8bd-dfb68d1e8a77",
        "colab": {
          "base_uri": "https://localhost:8080/"
        }
      },
      "execution_count": null,
      "outputs": [
        {
          "output_type": "stream",
          "name": "stdout",
          "text": [
            "ola mundo eu tenho 42 macas\n"
          ]
        }
      ]
    },
    {
      "cell_type": "markdown",
      "source": [
        "###Remoção de Stopwords\n"
      ],
      "metadata": {
        "id": "Z-ws3EPZ90iS"
      }
    },
    {
      "cell_type": "markdown",
      "source": [
        "Stopwords são palavras que não agregam sentido, como artigos, preposições, conjunções, pronomes e etc."
      ],
      "metadata": {
        "id": "J_gFv4qi-JZB"
      }
    },
    {
      "cell_type": "code",
      "source": [
        "import nltk\n",
        "from nltk.corpus import stopwords\n",
        "\n",
        "# Certifique-se de baixar as stopwords antes: nltk.download('stopwords')\n",
        "nltk.download('stopwords')\n",
        "\n",
        "def remover_stopwords(texto):\n",
        "    # Obtemos a lista de stopwords para o idioma desejado (português neste caso).\n",
        "    stop_words = set(stopwords.words('portuguese'))\n",
        "\n",
        "    # Dividimos o texto em uma lista de palavras.\n",
        "    palavras = texto.split()\n",
        "\n",
        "    # Retornamos apenas as palavras que não estão na lista de stopwords.\n",
        "    return \" \".join([palavra for palavra in palavras if palavra not in stop_words])\n",
        "\n",
        "# Exemplo de uso\n",
        "texto_exemplo = \"Este é um exemplo de texto com algumas palavras irrelevantes.\"\n",
        "print(remover_stopwords(texto_exemplo))\n"
      ],
      "metadata": {
        "colab": {
          "base_uri": "https://localhost:8080/"
        },
        "id": "xCsH0sBE-JyJ",
        "outputId": "accba160-7d9c-4ec3-e044-7126dc3949c3"
      },
      "execution_count": null,
      "outputs": [
        {
          "output_type": "stream",
          "name": "stdout",
          "text": [
            "Este exemplo texto algumas palavras irrelevantes.\n"
          ]
        },
        {
          "output_type": "stream",
          "name": "stderr",
          "text": [
            "[nltk_data] Downloading package stopwords to /root/nltk_data...\n",
            "[nltk_data]   Package stopwords is already up-to-date!\n"
          ]
        }
      ]
    },
    {
      "cell_type": "markdown",
      "source": [
        "###Tokenização [Tokenizer]"
      ],
      "metadata": {
        "id": "AEe0_isj_UvE"
      }
    },
    {
      "cell_type": "markdown",
      "source": [
        "Tokenização é o processo de dividir um texto em palavras individuais (tokens). Neste exemplo, a função word_tokenize do NLTK  transforma o texto em uma lista de palavras, facilitando o processamento subsequente."
      ],
      "metadata": {
        "id": "8zlkTwNV_jGX"
      }
    },
    {
      "source": [
        "import nltk\n",
        "from nltk.tokenize import word_tokenize\n",
        "\n",
        "# Download the necessary data for tokenization\n",
        "nltk.download('punkt_tab')\n",
        "\n",
        "def tokenizar_texto(texto):\n",
        "    return word_tokenize(texto)\n",
        "\n",
        "# Exemplo de uso\n",
        "texto_exemplo = \"Este é um exemplo de tokenização.\"\n",
        "print(tokenizar_texto(texto_exemplo))\n",
        "\n",
        "# Iteração sobre os tokens\n",
        "tokens = tokenizar_texto(texto_exemplo)\n",
        "for i, token in enumerate(tokens, start=1):\n",
        "    print(f\"Token {i}: {token}\")"
      ],
      "cell_type": "code",
      "metadata": {
        "colab": {
          "base_uri": "https://localhost:8080/"
        },
        "id": "G2Sk48XlAoYk",
        "outputId": "8957d5ee-cb4f-4b04-cf57-9cbb703fc96f"
      },
      "execution_count": null,
      "outputs": [
        {
          "output_type": "stream",
          "name": "stdout",
          "text": [
            "['Este', 'é', 'um', 'exemplo', 'de', 'tokenização', '.']\n",
            "Token 1: Este\n",
            "Token 2: é\n",
            "Token 3: um\n",
            "Token 4: exemplo\n",
            "Token 5: de\n",
            "Token 6: tokenização\n",
            "Token 7: .\n"
          ]
        },
        {
          "output_type": "stream",
          "name": "stderr",
          "text": [
            "[nltk_data] Downloading package punkt_tab to /root/nltk_data...\n",
            "[nltk_data]   Package punkt_tab is already up-to-date!\n"
          ]
        }
      ]
    },
    {
      "cell_type": "markdown",
      "source": [
        "###One-Hot Encoding"
      ],
      "metadata": {
        "id": "85dQBJNkCKAi"
      }
    },
    {
      "cell_type": "markdown",
      "source": [
        "Transforma palavras únicas em vetores binários. Cada palavra é representada por um vetor onde somente uma posição é \"1\", indicando a presença daquela palavra. Isso é útil para algoritmos que não conseguem processar texto diretamente."
      ],
      "metadata": {
        "id": "As0HFLmPCaUx"
      }
    },
    {
      "cell_type": "code",
      "source": [
        "from sklearn.preprocessing import OneHotEncoder\n",
        "\n",
        "def one_hot_encoding(lista_de_palavras):\n",
        "    encoder = OneHotEncoder(sparse_output=False)\n",
        "    # Convertemos a lista de palavras em um formato adequado para o encoder.\n",
        "    palavras_transformadas = [[palavra] for palavra in lista_de_palavras]\n",
        "    return encoder.fit_transform(palavras_transformadas)\n",
        "\n",
        "# Exemplo de uso\n",
        "texto_exemplo = \"cachorro gato gato cachorro peixe\"\n",
        "tokens = texto_exemplo.split()\n",
        "one_hot = one_hot_encoding(tokens)\n",
        "print(one_hot)\n"
      ],
      "metadata": {
        "colab": {
          "base_uri": "https://localhost:8080/"
        },
        "id": "lz6JWy_oCPlh",
        "outputId": "262221cf-0c3b-41ee-cc5a-eb9b942abce7"
      },
      "execution_count": null,
      "outputs": [
        {
          "output_type": "stream",
          "name": "stdout",
          "text": [
            "[[1. 0. 0.]\n",
            " [0. 1. 0.]\n",
            " [0. 1. 0.]\n",
            " [1. 0. 0.]\n",
            " [0. 0. 1.]]\n"
          ]
        }
      ]
    },
    {
      "cell_type": "markdown",
      "source": [
        "###Vetorização [Vectorizer - Bag of Words]"
      ],
      "metadata": {
        "id": "ZwcfEw2CDIzf"
      }
    },
    {
      "cell_type": "markdown",
      "source": [
        "Bag of Words cria uma matriz onde cada linha representa um texto e cada coluna, uma palavra única do vocabulário. Os valores indicam o número de vezes que uma palavra aparece no texto."
      ],
      "metadata": {
        "id": "ZFtKWAXoDO-n"
      }
    },
    {
      "cell_type": "code",
      "source": [
        "from sklearn.feature_extraction.text import CountVectorizer\n",
        "\n",
        "def bag_of_words(textos):\n",
        "    vectorizer = CountVectorizer()\n",
        "    # Ajusta o vetorizador ao texto e transforma.\n",
        "    matriz = vectorizer.fit_transform(textos)\n",
        "    return matriz.toarray(), vectorizer.get_feature_names_out()\n",
        "\n",
        "# Exemplo de uso\n",
        "textos_exemplo = [\"cachorro gato peixe\", \"gato peixe\", \"cachorro cachorro gato\"]\n",
        "matriz, palavras = bag_of_words(textos_exemplo)\n",
        "print(\"Matriz:\\n\", matriz)\n",
        "print(\"Palavras:\\n\", palavras)\n"
      ],
      "metadata": {
        "colab": {
          "base_uri": "https://localhost:8080/"
        },
        "id": "5BrtYqcTDPkA",
        "outputId": "9a120d9f-e70f-498b-b8f3-5ebe5bdddde5"
      },
      "execution_count": null,
      "outputs": [
        {
          "output_type": "stream",
          "name": "stdout",
          "text": [
            "Matriz:\n",
            " [[1 1 1]\n",
            " [0 1 1]\n",
            " [2 1 0]]\n",
            "Palavras:\n",
            " ['cachorro' 'gato' 'peixe']\n"
          ]
        }
      ]
    },
    {
      "cell_type": "markdown",
      "source": [
        "### Normatização - Stemming\n"
      ],
      "metadata": {
        "id": "B_FrOdZoEM_Q"
      }
    },
    {
      "cell_type": "markdown",
      "source": [
        "O stemming reduz as palavras à sua forma básica (radical). É útil para considerar diferentes formas gramaticais como equivalentes (ex.: \"correr\", \"corremos\")."
      ],
      "metadata": {
        "id": "77ZBwp9AEQ7_"
      }
    },
    {
      "cell_type": "code",
      "source": [
        "from nltk.stem import RSLPStemmer\n",
        "\n",
        "nltk.download('rslp')\n",
        "\n",
        "def aplicar_stemming(texto):\n",
        "    stemmer = RSLPStemmer()  # Stemmer específico para o português.\n",
        "    palavras = texto.split()  # Dividimos o texto em palavras.\n",
        "    # Aplicamos o stemming em cada palavra.\n",
        "    return \" \".join([stemmer.stem(palavra) for palavra in palavras])\n",
        "\n",
        "# Exemplo de uso\n",
        "texto_exemplo = \"corremos correrá correndo corredores\"\n",
        "print(aplicar_stemming(texto_exemplo))\n"
      ],
      "metadata": {
        "colab": {
          "base_uri": "https://localhost:8080/"
        },
        "id": "uVpUVYvgERSO",
        "outputId": "ac805563-c812-46e5-e57d-4a52549f55da"
      },
      "execution_count": null,
      "outputs": [
        {
          "output_type": "stream",
          "name": "stdout",
          "text": [
            "corr corr corr corr\n"
          ]
        },
        {
          "output_type": "stream",
          "name": "stderr",
          "text": [
            "[nltk_data] Downloading package rslp to /root/nltk_data...\n",
            "[nltk_data]   Unzipping stemmers/rslp.zip.\n"
          ]
        }
      ]
    },
    {
      "cell_type": "markdown",
      "source": [
        "### Normatização - Lemmatization\n"
      ],
      "metadata": {
        "id": "D_i9It8BEmGG"
      }
    },
    {
      "cell_type": "markdown",
      "source": [
        "A lematização é semelhante ao stemming, mas mais precisa. Enquanto o stemming corta palavras para obter o radical, a lematização considera o contexto para obter a forma base correta."
      ],
      "metadata": {
        "id": "gJk3PQsIEtYc"
      }
    },
    {
      "cell_type": "code",
      "source": [
        "import spacy\n",
        "\n",
        "# Certifique-se de instalar o modelo: python -m spacy download pt_core_news_sm\n",
        "nlp = spacy.load(\"pt_core_news_sm\")\n",
        "\n",
        "def aplicar_lemmatizacao(texto):\n",
        "    doc = nlp(texto)  # Processamos o texto com Spacy.\n",
        "    # Retornamos os lemas de cada token.\n",
        "    return \" \".join([token.lemma_ for token in doc])\n",
        "\n",
        "# Exemplo de uso\n",
        "texto_exemplo = \"Os meninos correram para pegar o trem.\"\n",
        "print(aplicar_lemmatizacao(texto_exemplo))\n"
      ],
      "metadata": {
        "colab": {
          "base_uri": "https://localhost:8080/"
        },
        "id": "D7yZ_LIWEttF",
        "outputId": "8b5f3959-bb26-48bc-a871-aeaef9f3ee7e"
      },
      "execution_count": 38,
      "outputs": [
        {
          "output_type": "stream",
          "name": "stdout",
          "text": [
            "o menino correr para pegar ele tr .\n"
          ]
        }
      ]
    },
    {
      "cell_type": "markdown",
      "source": [
        "##Algoritmos de Treinamento"
      ],
      "metadata": {
        "id": "tNdKPetlMORM"
      }
    },
    {
      "cell_type": "markdown",
      "source": [
        "###Rede Neural [Keras] - Classificação de Texto"
      ],
      "metadata": {
        "id": "6-6BNtIFMSqM"
      }
    },
    {
      "cell_type": "markdown",
      "source": [
        "Classifica textos em diferentes categorias (por exemplo, sentimento positivo ou negativo)."
      ],
      "metadata": {
        "id": "cVSEQPgzWrx7"
      }
    },
    {
      "cell_type": "code",
      "source": [
        "from keras.models import Sequential\n",
        "from keras.layers import Dense, Embedding, Flatten\n",
        "from keras.preprocessing.text import Tokenizer\n",
        "from keras.preprocessing.sequence import pad_sequences\n",
        "import numpy as np\n",
        "\n",
        "# Exemplo de dados de texto\n",
        "textos = [\"Eu amo este produto\", \"Muito ruim, não gostei\", \"Excelente, recomendo\", \"Horrível, não vale a pena\", \"Produto maravilhoso\"]\n",
        "labels = [1, 0, 1, 0, 1]  # 1 = positivo, 0 = negativo\n",
        "\n",
        "# Tokenização do texto\n",
        "tokenizer = Tokenizer(num_words=10000)\n",
        "tokenizer.fit_on_texts(textos)\n",
        "X = tokenizer.texts_to_sequences(textos)\n",
        "\n",
        "# Padding para que todas as sequências tenham o mesmo tamanho\n",
        "X_pad = pad_sequences(X, padding='post')\n",
        "\n",
        "# Criar o modelo\n",
        "modelo = Sequential([\n",
        "    Embedding(input_dim=10000, output_dim=64, input_length=X_pad.shape[1]),\n",
        "    Flatten(),\n",
        "    Dense(64, activation='relu'),\n",
        "    Dense(1, activation='sigmoid')  # Saída binária (positivo ou negativo)\n",
        "])\n",
        "\n",
        "modelo.compile(optimizer='adam', loss='binary_crossentropy', metrics=['accuracy'])\n",
        "\n",
        "# Treinar o modelo\n",
        "modelo.fit(X_pad, np.array(labels), epochs=10)\n",
        "\n",
        "# Avaliar o modelo\n",
        "print(modelo.evaluate(X_pad, np.array(labels)))"
      ],
      "metadata": {
        "id": "pNbOrmLhWzcw"
      },
      "execution_count": null,
      "outputs": []
    },
    {
      "cell_type": "markdown",
      "source": [
        "###LSTM - Classificação de Texto"
      ],
      "metadata": {
        "id": "gcSkrNe7W2-9"
      }
    },
    {
      "cell_type": "markdown",
      "source": [
        "Ótimo para processar sequências de texto, como análises de sentimentos ou predição de tópicos, permitindo que o modelo lembre de informações anteriores da sequência."
      ],
      "metadata": {
        "id": "VKZNhcDfXApJ"
      }
    },
    {
      "cell_type": "code",
      "source": [
        "from keras.models import Sequential\n",
        "from keras.layers import LSTM, Dense, Embedding, Dropout\n",
        "from keras.preprocessing.text import Tokenizer\n",
        "from keras.preprocessing.sequence import pad_sequences\n",
        "import numpy as np\n",
        "\n",
        "# Exemplo de dados de texto\n",
        "textos = [\"Eu adoro programação\", \"Detesto erros de código\", \"Muito fácil de aprender\", \"Erros são frustrantes\", \"Aprender programação é divertido\"]\n",
        "labels = [1, 0, 1, 0, 1]  # 1 = positivo, 0 = negativo\n",
        "\n",
        "# Tokenização do texto\n",
        "tokenizer = Tokenizer(num_words=10000)\n",
        "tokenizer.fit_on_texts(textos)\n",
        "X = tokenizer.texts_to_sequences(textos)\n",
        "\n",
        "# Padding para que todas as sequências tenham o mesmo tamanho\n",
        "X_pad = pad_sequences(X, padding='post')\n",
        "\n",
        "# Criar o modelo LSTM\n",
        "modelo = Sequential([\n",
        "    Embedding(input_dim=10000, output_dim=64, input_length=X_pad.shape[1]),\n",
        "    LSTM(128),\n",
        "    Dropout(0.5),\n",
        "    Dense(64, activation='relu'),\n",
        "    Dense(1, activation='sigmoid')  # Saída binária (positivo ou negativo)\n",
        "])\n",
        "\n",
        "modelo.compile(optimizer='adam', loss='binary_crossentropy', metrics=['accuracy'])\n",
        "\n",
        "# Treinar o modelo\n",
        "modelo.fit(X_pad, np.array(labels), epochs=10)\n",
        "\n",
        "# Avaliar o modelo\n",
        "print(modelo.evaluate(X_pad, np.array(labels)))"
      ],
      "metadata": {
        "id": "HEdPwpdcXFQq"
      },
      "execution_count": null,
      "outputs": []
    },
    {
      "cell_type": "markdown",
      "source": [
        "##Exercícios"
      ],
      "metadata": {
        "id": "lYi5NXZq9gey"
      }
    },
    {
      "cell_type": "markdown",
      "source": [
        "###Exercício 1"
      ],
      "metadata": {
        "id": "zOSnUKCu9oHi"
      }
    },
    {
      "cell_type": "markdown",
      "source": [
        "Com base no texto, faça um código para extrair o texto que está entre\n",
        "o primeiro (.) e a primeira (,). Utilize a função find para localizar\n",
        "as posições do ponto e da virgula no texto e, em seguida, faça um laço\n",
        "for para gerar um texto novo com os caracteres entre o ponto e a virgula"
      ],
      "metadata": {
        "id": "dOeJg-T9GH-b"
      }
    },
    {
      "cell_type": "code",
      "source": [
        "texto = \"Python é uma linguagem de programação poderosa e versátil.\\\n",
        "        É amplamente utilizada em desenvolvimento web, ciência de\\\n",
        "        dados, inteligência artificial e muito mais.\"\n",
        "\n",
        "# Encontrar o ponto\n",
        "posicao_ponto = texto.find(\".\")\n",
        "\n",
        "# Definir a primeira vírgula após o ponto\n",
        "# obs: posicao_ponto serve como argumento para estabelcer o início da busca\n",
        "posicao_virgula = texto.find(\",\", posicao_ponto)\n",
        "\n",
        "# Necessário inicializar a variável antes do laço como string vazia\n",
        "novo_texto = \"\"\n",
        "\n",
        "# Laço for para gerar o novo texto\n",
        "for i in range(posicao_ponto + 1, posicao_virgula):\n",
        "    novo_texto += texto[i]\n",
        "\n",
        "# Remover caracteres em branco no início (lstrip, à esquerda) e final (rstrip, à direita)\n",
        "novo_texto = novo_texto.lstrip().rstrip()\n",
        "\n",
        "print(f\"Texto extraído: '{novo_texto}'\")"
      ],
      "metadata": {
        "colab": {
          "base_uri": "https://localhost:8080/"
        },
        "id": "myBcXG0GGYlK",
        "outputId": "13e69f1d-fd39-459a-8bbb-85d754d0bc2d"
      },
      "execution_count": 39,
      "outputs": [
        {
          "output_type": "stream",
          "name": "stdout",
          "text": [
            "Texto extraído: 'É amplamente utilizada em desenvolvimento web'\n"
          ]
        }
      ]
    },
    {
      "cell_type": "markdown",
      "source": [
        "###Exercício 2"
      ],
      "metadata": {
        "id": "yQ5KJjGBGeC-"
      }
    },
    {
      "cell_type": "markdown",
      "source": [
        "1) Crie uma lista de dicionários para armazenar comentários e emoções conforme a tabela <br>\n",
        "2) Faça uma rotina para totalizar a quantidade de comentários negativos e comentários positivos <br>\n",
        "3) Calcule e mostre na tela a proporção de cada sentimento em relação ao total de comentários <br>\n",
        "4) Faça uma rotina para mostrar apenas os comentários positivos <br>\n",
        "5) Adicione uma chave em cada dicionário chamado sentimento_valor que conterá 0 se o sentimento for negativo ou 1 se o sentimento for positivo"
      ],
      "metadata": {
        "id": "OCN_xPHZGf9H"
      }
    },
    {
      "cell_type": "code",
      "source": [
        "# Inicializar variáveis\n",
        "total_comentarios = 0\n",
        "comentarios_positivos = 0\n",
        "comentarios_negativos = 0\n",
        "\n",
        "# Criar lista de dicionários\n",
        "dicionarios = [\n",
        "    { \"autor\": \"João\", \"comentario\": \"Estou tão feliz hoje!\", \"sentimento_valor\": 1 },\n",
        "    { \"autor\": \"Maria\", \"comentario\": \"Este filme é tão triste.\", \"sentimento_valor\": 0 },\n",
        "    { \"autor\": \"Carlos\", \"comentario\": \"Que dia chuvoso entediante...\", \"sentimento_valor\": 0 },\n",
        "    { \"autor\": \"Ana\", \"comentario\": \"Adorei a nova música da banda!\", \"sentimento_valor\": 1 },\n",
        "    { \"autor\": \"Roberto\", \"comentario\": \"Eureka, consegui resolver este problema\", \"sentimento_valor\": 1 }\n",
        "]\n",
        "\n",
        "# Totalizar comentários\n",
        "for comentario in dicionarios:\n",
        "    total_comentarios += 1\n",
        "print(f\"Há {total_comentarios} comentários ao todo.\\n\")\n",
        "\n",
        "# Exibir comentários positivos\n",
        "print(\"Comentários Positivos:\")\n",
        "\n",
        "for comentario in dicionarios:\n",
        "    if comentario[\"sentimento_valor\"] == 1:\n",
        "        print(f\"{comentario['autor']}: {comentario['comentario']}\")\n",
        "        # Contabilizar comentários positivos\n",
        "        comentarios_positivos += 1\n",
        "# Definir proporção de comentários positivos\n",
        "proporcao_positivos = (comentarios_positivos / total_comentarios) *100\n",
        "print(f\"Há {comentarios_positivos} comentário(s) positivo(s), representado {proporcao_positivos}% do total de comentários.\\n\")\n",
        "\n",
        "# Exibir comentários negativos\n",
        "print(\"Comentários Negativos:\")\n",
        "\n",
        "for comentario in dicionarios:\n",
        "    if comentario[\"sentimento_valor\"] == 0:\n",
        "        print(f\"{comentario['autor']}: {comentario['comentario']}\")\n",
        "        # Contabilizar comentários negativos\n",
        "        comentarios_negativos += 1\n",
        "# Definir proporção de comentários negativos\n",
        "proporcao_negativos = (comentarios_negativos / total_comentarios) *100\n",
        "print(f\"Há {comentarios_negativos} comentário(s) negativo(s), representado {proporcao_negativos}% do total de comentários.\\n\")"
      ],
      "metadata": {
        "colab": {
          "base_uri": "https://localhost:8080/"
        },
        "id": "9eWG5mpyGncH",
        "outputId": "b24d5d04-a2e5-4a29-d1f9-e52c6cd254bf"
      },
      "execution_count": 40,
      "outputs": [
        {
          "output_type": "stream",
          "name": "stdout",
          "text": [
            "Há 5 comentários ao todo.\n",
            "\n",
            "Comentários Positivos:\n",
            "João: Estou tão feliz hoje!\n",
            "Ana: Adorei a nova música da banda!\n",
            "Roberto: Eureka, consegui resolver este problema\n",
            "Há 3 comentário(s) positivo(s), representado 60.0% do total de comentários.\n",
            "\n",
            "Comentários Negativos:\n",
            "Maria: Este filme é tão triste.\n",
            "Carlos: Que dia chuvoso entediante...\n",
            "Há 2 comentário(s) negativo(s), representado 40.0% do total de comentários.\n",
            "\n"
          ]
        }
      ]
    },
    {
      "cell_type": "markdown",
      "source": [
        "###Exercício 3"
      ],
      "metadata": {
        "id": "lC6bEo23Gr1B"
      }
    },
    {
      "cell_type": "markdown",
      "source": [
        "Contexto: Você foi contratado por uma empresa de marketing digital para analisar comentários de clientes em uma rede social. Para começar a análise, é necessário limpar os dados e deixá-los em um formato adequado para a aplicação de algoritmos de NLP.\n",
        "\n",
        "Tarefa: Crie uma função que...\n",
        "<br> 1) Converta todas as palavras para minúsculas.\n",
        "<br> 2) Elimine caracteres especiais (pontuação, emojis, etc.).\n",
        "<br> 3) Retorne uma lista com as palavras pré-processadas\n",
        "\n",
        "Exemplo de parâmetro: \"Adorei o produto! Super recomendo 😍\"\n",
        "Exemplo de retorno: [\"adorei\", \"o\", \"produto\", \"super\", \"recomendo\"]"
      ],
      "metadata": {
        "id": "vGqrF2fqGtTw"
      }
    },
    {
      "cell_type": "code",
      "source": [
        "import re\n",
        "\n",
        "# Criar função\n",
        "def preprocessar_comentario(comentario):\n",
        "    # Converter as palavras em minúsculas\n",
        "    comentario = comentario.lower()\n",
        "\n",
        "    # Eliminar caracteres especiais (pontuação, emojis, etc.), utilizando regex\n",
        "    comentario = re.sub(r'[^\\w\\s]', '', comentario)  # Remove pontuação\n",
        "    comentario = re.sub(r'\\d+', '', comentario)  # Remove números (se necessário)\n",
        "\n",
        "    # Separar o comentário em palavras\n",
        "    palavras = comentario.split()\n",
        "\n",
        "    # Retornar lista de palavras pré-processadas\n",
        "    return palavras\n",
        "\n",
        "# Uso com comentário passado como parâmetro\n",
        "exemplo = \"Adorei o produto! Super recomendo 😍\"\n",
        "resultado = preprocessar_comentario(exemplo)\n",
        "print(f\"Exemplo: Adorei o produto! Super recomendo 😍  -> Resultado: {resultado}\\n\")\n",
        "\n",
        "# Uso com entrada do usuário\n",
        "comentario_usuario = input(\"Digite um comentário: \")\n",
        "resultado = preprocessar_comentario(comentario_usuario)\n",
        "print(f\"Comentário pré-processado: {resultado}\")"
      ],
      "metadata": {
        "colab": {
          "base_uri": "https://localhost:8080/"
        },
        "id": "NqqeIoPnG37I",
        "outputId": "75e3004e-07f5-4cfd-cebc-d345c6c9053b"
      },
      "execution_count": 41,
      "outputs": [
        {
          "output_type": "stream",
          "name": "stdout",
          "text": [
            "Exemplo: Adorei o produto! Super recomendo 😍  -> Resultado: ['adorei', 'o', 'produto', 'super', 'recomendo']\n",
            "\n",
            "Digite um comentário: Olá, como vai você, hein?!\n",
            "Comentário pré-processado: ['olá', 'como', 'vai', 'você', 'hein']\n"
          ]
        }
      ]
    },
    {
      "cell_type": "markdown",
      "source": [
        "###Exercício 4"
      ],
      "metadata": {
        "id": "Az27gAqTHGOp"
      }
    },
    {
      "cell_type": "markdown",
      "source": [
        "Contexto: Você trabalha em uma startup que oferece suporte via mensagens de texto. As mensagens dos clientes são escritas de maneira informal, com abreviações e erros de digitação. Sua tarefa é normalizar esses textos para facilitar a análise.\n",
        "\n",
        "Tarefa:\n",
        "<br> 1) Identifique e corrija abreviações e erros comuns (por exemplo, \"vc\" → \"você\", \"eh\" → \"é\").\n",
        "<br> 2) Remova gírias e expressões que não adicionam valor semântico.\n",
        "<br> 3) Retorne o texto normalizado.\n",
        "\n",
        "Exemplo de entrada: \"Vc eh mt bom, recomendo mto!!!\"\n",
        "Exemplo de saída: \"você é muito bom recomendo muito\"\n",
        "\n",
        "Dica: Construa um dicionário para de gírias de maneira que a chave seja a gíria e o valor a palavra formal."
      ],
      "metadata": {
        "id": "uS89ErXOHHuW"
      }
    },
    {
      "cell_type": "code",
      "source": [
        "import re\n",
        "\n",
        "# Dicionário de gírias\n",
        "girias = { \"mto\": \"muito\", \"mt\": \"muito\", \"vc\": \"você\", \"eh\": \"é\" }\n",
        "\"\"\"\n",
        "    Como há duas chaves com valores iguais, é necessário manter\n",
        "    a chave mais longa primeiro para não afetar a saída e\n",
        "    duplicar caracteres no momento da substituição\n",
        "\"\"\"\n",
        "\n",
        "comentario = \"Vc eh mt bom, recomendo mto!!!\"\n",
        "\n",
        "# Transformar o texto em minúsculo\n",
        "comentario = comentario.lower()\n",
        "\n",
        "# Eliminar gírias e expressões que não adicionam valor semântico\n",
        "comentario = re.sub(r'[^\\w\\s]', '', comentario)  # Remove pontuação\n",
        "comentario = re.sub(r'\\d+', '', comentario)  # Remove números (se necessário)\n",
        "\n",
        "# Substituir as chaves (abreviações) do dicionário pelos seus valores (correções)\n",
        "for abreviacao, correcao in girias.items():\n",
        "    comentario = comentario.replace(abreviacao, correcao)\n",
        "\n",
        "# Remover espaços extras\n",
        "comentario = ' '.join(comentario.split())\n",
        "\n",
        "print(f\"Comentário corrigido: '{comentario}'\")"
      ],
      "metadata": {
        "colab": {
          "base_uri": "https://localhost:8080/"
        },
        "id": "vUWhHHQkHS6c",
        "outputId": "f7f173be-5274-4996-c16c-723373f51e38"
      },
      "execution_count": 42,
      "outputs": [
        {
          "output_type": "stream",
          "name": "stdout",
          "text": [
            "Comentário corrigido: 'você é muito bom recomendo muito'\n"
          ]
        }
      ]
    }
  ]
}